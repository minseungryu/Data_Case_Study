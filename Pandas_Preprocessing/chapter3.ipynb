{
 "cells": [
  {
   "cell_type": "markdown",
   "id": "e5ee3538-7f02-4657-ba9f-e351fe529bd7",
   "metadata": {},
   "source": [
    "# 3장. 데이터 측정\n",
    "- nls97 데이터 : 패널(Panel)데이터, 종단데이터이며 동일한 개체에 대해 일정 기간의 데이터를 수집한 것\n",
    "    - 각 개인에 대해 1997년부터 2017년까지 21년간 수집한 데이터"
   ]
  },
  {
   "cell_type": "code",
   "execution_count": 89,
   "id": "0c3ef2b2-5e1f-4914-b063-a2d91f7ee1d4",
   "metadata": {},
   "outputs": [],
   "source": [
    "import pandas as pd\n",
    "import numpy as np\n",
    "\n",
    "nls97 = pd.read_csv(\"data/nls97.csv\")\n",
    "covidtotals = pd.read_csv(\"data/covidtotals.csv\", \n",
    "                         parse_dates=['lastdate'])\n",
    "\n",
    "#parse_date 매개변수는 어떤 열을 날짜로 파싱할지 지정 : lastdate열은 날짜와 시간 객체로 변환됨"
   ]
  },
  {
   "cell_type": "code",
   "execution_count": 90,
   "id": "8bfe9c8e-ba4d-4e3d-8fff-c75be25f4daf",
   "metadata": {},
   "outputs": [
    {
     "data": {
      "text/html": [
       "<div>\n",
       "<style scoped>\n",
       "    .dataframe tbody tr th:only-of-type {\n",
       "        vertical-align: middle;\n",
       "    }\n",
       "\n",
       "    .dataframe tbody tr th {\n",
       "        vertical-align: top;\n",
       "    }\n",
       "\n",
       "    .dataframe thead th {\n",
       "        text-align: right;\n",
       "    }\n",
       "</style>\n",
       "<table border=\"1\" class=\"dataframe\">\n",
       "  <thead>\n",
       "    <tr style=\"text-align: right;\">\n",
       "      <th></th>\n",
       "      <th>gender</th>\n",
       "      <th>birthmonth</th>\n",
       "      <th>birthyear</th>\n",
       "      <th>highestgradecompleted</th>\n",
       "      <th>maritalstatus</th>\n",
       "      <th>childathome</th>\n",
       "      <th>childnotathome</th>\n",
       "      <th>wageincome</th>\n",
       "      <th>weeklyhrscomputer</th>\n",
       "      <th>weeklyhrstv</th>\n",
       "      <th>...</th>\n",
       "      <th>colenrfeb13</th>\n",
       "      <th>colenroct13</th>\n",
       "      <th>colenrfeb14</th>\n",
       "      <th>colenroct14</th>\n",
       "      <th>colenrfeb15</th>\n",
       "      <th>colenroct15</th>\n",
       "      <th>colenrfeb16</th>\n",
       "      <th>colenroct16</th>\n",
       "      <th>colenrfeb17</th>\n",
       "      <th>colenroct17</th>\n",
       "    </tr>\n",
       "    <tr>\n",
       "      <th>personid</th>\n",
       "      <th></th>\n",
       "      <th></th>\n",
       "      <th></th>\n",
       "      <th></th>\n",
       "      <th></th>\n",
       "      <th></th>\n",
       "      <th></th>\n",
       "      <th></th>\n",
       "      <th></th>\n",
       "      <th></th>\n",
       "      <th></th>\n",
       "      <th></th>\n",
       "      <th></th>\n",
       "      <th></th>\n",
       "      <th></th>\n",
       "      <th></th>\n",
       "      <th></th>\n",
       "      <th></th>\n",
       "      <th></th>\n",
       "      <th></th>\n",
       "      <th></th>\n",
       "    </tr>\n",
       "  </thead>\n",
       "  <tbody>\n",
       "    <tr>\n",
       "      <th>100061</th>\n",
       "      <td>Female</td>\n",
       "      <td>5</td>\n",
       "      <td>1980</td>\n",
       "      <td>13.0</td>\n",
       "      <td>Married</td>\n",
       "      <td>4.0</td>\n",
       "      <td>0.0</td>\n",
       "      <td>12500.0</td>\n",
       "      <td>10 hours or more a week</td>\n",
       "      <td>11 to 20 hours a week</td>\n",
       "      <td>...</td>\n",
       "      <td>1. Not enrolled</td>\n",
       "      <td>1. Not enrolled</td>\n",
       "      <td>1. Not enrolled</td>\n",
       "      <td>1. Not enrolled</td>\n",
       "      <td>1. Not enrolled</td>\n",
       "      <td>1. Not enrolled</td>\n",
       "      <td>1. Not enrolled</td>\n",
       "      <td>1. Not enrolled</td>\n",
       "      <td>1. Not enrolled</td>\n",
       "      <td>1. Not enrolled</td>\n",
       "    </tr>\n",
       "    <tr>\n",
       "      <th>100139</th>\n",
       "      <td>Male</td>\n",
       "      <td>9</td>\n",
       "      <td>1983</td>\n",
       "      <td>12.0</td>\n",
       "      <td>Married</td>\n",
       "      <td>2.0</td>\n",
       "      <td>0.0</td>\n",
       "      <td>120000.0</td>\n",
       "      <td>1 to 3 hours a week</td>\n",
       "      <td>3 to 10 hours a week</td>\n",
       "      <td>...</td>\n",
       "      <td>1. Not enrolled</td>\n",
       "      <td>1. Not enrolled</td>\n",
       "      <td>1. Not enrolled</td>\n",
       "      <td>1. Not enrolled</td>\n",
       "      <td>1. Not enrolled</td>\n",
       "      <td>1. Not enrolled</td>\n",
       "      <td>1. Not enrolled</td>\n",
       "      <td>1. Not enrolled</td>\n",
       "      <td>1. Not enrolled</td>\n",
       "      <td>1. Not enrolled</td>\n",
       "    </tr>\n",
       "    <tr>\n",
       "      <th>100284</th>\n",
       "      <td>Male</td>\n",
       "      <td>11</td>\n",
       "      <td>1984</td>\n",
       "      <td>7.0</td>\n",
       "      <td>Never-married</td>\n",
       "      <td>1.0</td>\n",
       "      <td>0.0</td>\n",
       "      <td>58000.0</td>\n",
       "      <td>None</td>\n",
       "      <td>11 to 20 hours a week</td>\n",
       "      <td>...</td>\n",
       "      <td>1. Not enrolled</td>\n",
       "      <td>1. Not enrolled</td>\n",
       "      <td>1. Not enrolled</td>\n",
       "      <td>1. Not enrolled</td>\n",
       "      <td>1. Not enrolled</td>\n",
       "      <td>1. Not enrolled</td>\n",
       "      <td>1. Not enrolled</td>\n",
       "      <td>1. Not enrolled</td>\n",
       "      <td>1. Not enrolled</td>\n",
       "      <td>1. Not enrolled</td>\n",
       "    </tr>\n",
       "    <tr>\n",
       "      <th>100292</th>\n",
       "      <td>Male</td>\n",
       "      <td>4</td>\n",
       "      <td>1982</td>\n",
       "      <td>NaN</td>\n",
       "      <td>NaN</td>\n",
       "      <td>NaN</td>\n",
       "      <td>NaN</td>\n",
       "      <td>NaN</td>\n",
       "      <td>NaN</td>\n",
       "      <td>NaN</td>\n",
       "      <td>...</td>\n",
       "      <td>1. Not enrolled</td>\n",
       "      <td>1. Not enrolled</td>\n",
       "      <td>1. Not enrolled</td>\n",
       "      <td>1. Not enrolled</td>\n",
       "      <td>1. Not enrolled</td>\n",
       "      <td>1. Not enrolled</td>\n",
       "      <td>NaN</td>\n",
       "      <td>NaN</td>\n",
       "      <td>NaN</td>\n",
       "      <td>NaN</td>\n",
       "    </tr>\n",
       "    <tr>\n",
       "      <th>100583</th>\n",
       "      <td>Male</td>\n",
       "      <td>1</td>\n",
       "      <td>1980</td>\n",
       "      <td>13.0</td>\n",
       "      <td>Married</td>\n",
       "      <td>4.0</td>\n",
       "      <td>0.0</td>\n",
       "      <td>30000.0</td>\n",
       "      <td>Less than 1 hour a week</td>\n",
       "      <td>3 to 10 hours a week</td>\n",
       "      <td>...</td>\n",
       "      <td>1. Not enrolled</td>\n",
       "      <td>1. Not enrolled</td>\n",
       "      <td>1. Not enrolled</td>\n",
       "      <td>1. Not enrolled</td>\n",
       "      <td>1. Not enrolled</td>\n",
       "      <td>1. Not enrolled</td>\n",
       "      <td>1. Not enrolled</td>\n",
       "      <td>1. Not enrolled</td>\n",
       "      <td>1. Not enrolled</td>\n",
       "      <td>1. Not enrolled</td>\n",
       "    </tr>\n",
       "  </tbody>\n",
       "</table>\n",
       "<p>5 rows × 88 columns</p>\n",
       "</div>"
      ],
      "text/plain": [
       "          gender  birthmonth  birthyear  highestgradecompleted  maritalstatus  \\\n",
       "personid                                                                        \n",
       "100061    Female           5       1980                   13.0        Married   \n",
       "100139      Male           9       1983                   12.0        Married   \n",
       "100284      Male          11       1984                    7.0  Never-married   \n",
       "100292      Male           4       1982                    NaN            NaN   \n",
       "100583      Male           1       1980                   13.0        Married   \n",
       "\n",
       "          childathome  childnotathome  wageincome        weeklyhrscomputer  \\\n",
       "personid                                                                     \n",
       "100061            4.0             0.0     12500.0  10 hours or more a week   \n",
       "100139            2.0             0.0    120000.0      1 to 3 hours a week   \n",
       "100284            1.0             0.0     58000.0                     None   \n",
       "100292            NaN             NaN         NaN                      NaN   \n",
       "100583            4.0             0.0     30000.0  Less than 1 hour a week   \n",
       "\n",
       "                    weeklyhrstv  ...      colenrfeb13      colenroct13  \\\n",
       "personid                         ...                                     \n",
       "100061    11 to 20 hours a week  ...  1. Not enrolled  1. Not enrolled   \n",
       "100139     3 to 10 hours a week  ...  1. Not enrolled  1. Not enrolled   \n",
       "100284    11 to 20 hours a week  ...  1. Not enrolled  1. Not enrolled   \n",
       "100292                      NaN  ...  1. Not enrolled  1. Not enrolled   \n",
       "100583     3 to 10 hours a week  ...  1. Not enrolled  1. Not enrolled   \n",
       "\n",
       "              colenrfeb14      colenroct14      colenrfeb15      colenroct15  \\\n",
       "personid                                                                       \n",
       "100061    1. Not enrolled  1. Not enrolled  1. Not enrolled  1. Not enrolled   \n",
       "100139    1. Not enrolled  1. Not enrolled  1. Not enrolled  1. Not enrolled   \n",
       "100284    1. Not enrolled  1. Not enrolled  1. Not enrolled  1. Not enrolled   \n",
       "100292    1. Not enrolled  1. Not enrolled  1. Not enrolled  1. Not enrolled   \n",
       "100583    1. Not enrolled  1. Not enrolled  1. Not enrolled  1. Not enrolled   \n",
       "\n",
       "              colenrfeb16      colenroct16      colenrfeb17      colenroct17  \n",
       "personid                                                                      \n",
       "100061    1. Not enrolled  1. Not enrolled  1. Not enrolled  1. Not enrolled  \n",
       "100139    1. Not enrolled  1. Not enrolled  1. Not enrolled  1. Not enrolled  \n",
       "100284    1. Not enrolled  1. Not enrolled  1. Not enrolled  1. Not enrolled  \n",
       "100292                NaN              NaN              NaN              NaN  \n",
       "100583    1. Not enrolled  1. Not enrolled  1. Not enrolled  1. Not enrolled  \n",
       "\n",
       "[5 rows x 88 columns]"
      ]
     },
     "execution_count": 90,
     "metadata": {},
     "output_type": "execute_result"
    }
   ],
   "source": [
    "nls97.set_index('personid', inplace = True)\n",
    "nls97.head()"
   ]
  },
  {
   "cell_type": "code",
   "execution_count": 91,
   "id": "6cd26ce3-019f-42e6-aa44-fbac01773878",
   "metadata": {},
   "outputs": [
    {
     "data": {
      "text/plain": [
       "(8984, 88)"
      ]
     },
     "execution_count": 91,
     "metadata": {},
     "output_type": "execute_result"
    }
   ],
   "source": [
    "nls97.shape"
   ]
  },
  {
   "cell_type": "code",
   "execution_count": 92,
   "id": "c6082244-53bf-42af-af31-f53be0c7bedd",
   "metadata": {},
   "outputs": [
    {
     "data": {
      "text/plain": [
       "8984"
      ]
     },
     "execution_count": 92,
     "metadata": {},
     "output_type": "execute_result"
    }
   ],
   "source": [
    "nls97.index.nunique()"
   ]
  },
  {
   "cell_type": "code",
   "execution_count": 93,
   "id": "97bc2e2e-b0eb-4392-b821-46d00091ae23",
   "metadata": {},
   "outputs": [
    {
     "name": "stdout",
     "output_type": "stream",
     "text": [
      "<class 'pandas.core.frame.DataFrame'>\n",
      "Int64Index: 8984 entries, 100061 to 999963\n",
      "Data columns (total 88 columns):\n",
      " #   Column                 Non-Null Count  Dtype  \n",
      "---  ------                 --------------  -----  \n",
      " 0   gender                 8984 non-null   object \n",
      " 1   birthmonth             8984 non-null   int64  \n",
      " 2   birthyear              8984 non-null   int64  \n",
      " 3   highestgradecompleted  6663 non-null   float64\n",
      " 4   maritalstatus          6672 non-null   object \n",
      " 5   childathome            4791 non-null   float64\n",
      " 6   childnotathome         4791 non-null   float64\n",
      " 7   wageincome             5091 non-null   float64\n",
      " 8   weeklyhrscomputer      6710 non-null   object \n",
      " 9   weeklyhrstv            6711 non-null   object \n",
      " 10  nightlyhrssleep        6706 non-null   float64\n",
      " 11  satverbal              1406 non-null   float64\n",
      " 12  satmath                1407 non-null   float64\n",
      " 13  gpaoverall             6004 non-null   float64\n",
      " 14  gpaenglish             5798 non-null   float64\n",
      " 15  gpamath                5766 non-null   float64\n",
      " 16  gpascience             5684 non-null   float64\n",
      " 17  highestdegree          8953 non-null   object \n",
      " 18  govprovidejobs         1833 non-null   object \n",
      " 19  govpricecontrols       1859 non-null   object \n",
      " 20  govhealthcare          1874 non-null   object \n",
      " 21  govelderliving         1872 non-null   object \n",
      " 22  govindhelp             1815 non-null   object \n",
      " 23  govunemp               1811 non-null   object \n",
      " 24  govincomediff          1775 non-null   object \n",
      " 25  govcollegefinance      1875 non-null   object \n",
      " 26  govdecenthousing       1847 non-null   object \n",
      " 27  govprotectenvironment  1860 non-null   object \n",
      " 28  weeksworked00          8603 non-null   float64\n",
      " 29  weeksworked01          8564 non-null   float64\n",
      " 30  weeksworked02          8556 non-null   float64\n",
      " 31  weeksworked03          8490 non-null   float64\n",
      " 32  weeksworked04          8458 non-null   float64\n",
      " 33  weeksworked05          8403 non-null   float64\n",
      " 34  weeksworked06          8340 non-null   float64\n",
      " 35  weeksworked07          8272 non-null   float64\n",
      " 36  weeksworked08          8186 non-null   float64\n",
      " 37  weeksworked09          8146 non-null   float64\n",
      " 38  weeksworked10          8054 non-null   float64\n",
      " 39  weeksworked11          7968 non-null   float64\n",
      " 40  weeksworked12          7747 non-null   float64\n",
      " 41  weeksworked13          7680 non-null   float64\n",
      " 42  weeksworked14          7612 non-null   float64\n",
      " 43  weeksworked15          7389 non-null   float64\n",
      " 44  weeksworked16          7068 non-null   float64\n",
      " 45  weeksworked17          6670 non-null   float64\n",
      " 46  colenrfeb97            1250 non-null   object \n",
      " 47  colenroct97            8501 non-null   object \n",
      " 48  colenrfeb98            8501 non-null   object \n",
      " 49  colenroct98            8888 non-null   object \n",
      " 50  colenrfeb99            8865 non-null   object \n",
      " 51  colenroct99            8851 non-null   object \n",
      " 52  colenrfeb00            8820 non-null   object \n",
      " 53  colenroct00            8805 non-null   object \n",
      " 54  colenrfeb01            8786 non-null   object \n",
      " 55  colenroct01            8758 non-null   object \n",
      " 56  colenrfeb02            8732 non-null   object \n",
      " 57  colenroct02            8698 non-null   object \n",
      " 58  colenrfeb03            8658 non-null   object \n",
      " 59  colenroct03            8622 non-null   object \n",
      " 60  colenrfeb04            8578 non-null   object \n",
      " 61  colenroct04            8546 non-null   object \n",
      " 62  colenrfeb05            8508 non-null   object \n",
      " 63  colenroct05            8471 non-null   object \n",
      " 64  colenrfeb06            8426 non-null   object \n",
      " 65  colenroct06            8407 non-null   object \n",
      " 66  colenrfeb07            8352 non-null   object \n",
      " 67  colenroct07            8331 non-null   object \n",
      " 68  colenrfeb08            8289 non-null   object \n",
      " 69  colenroct08            8280 non-null   object \n",
      " 70  colenrfeb09            8236 non-null   object \n",
      " 71  colenroct09            8193 non-null   object \n",
      " 72  colenrfeb10            8116 non-null   object \n",
      " 73  colenroct10            8091 non-null   object \n",
      " 74  colenrfeb11            8037 non-null   object \n",
      " 75  colenroct11            7972 non-null   object \n",
      " 76  colenrfeb12            7794 non-null   object \n",
      " 77  colenroct12            7754 non-null   object \n",
      " 78  colenrfeb13            7754 non-null   object \n",
      " 79  colenroct13            7754 non-null   object \n",
      " 80  colenrfeb14            7624 non-null   object \n",
      " 81  colenroct14            7469 non-null   object \n",
      " 82  colenrfeb15            7469 non-null   object \n",
      " 83  colenroct15            7469 non-null   object \n",
      " 84  colenrfeb16            7036 non-null   object \n",
      " 85  colenroct16            6733 non-null   object \n",
      " 86  colenrfeb17            6733 non-null   object \n",
      " 87  colenroct17            6734 non-null   object \n",
      "dtypes: float64(29), int64(2), object(57)\n",
      "memory usage: 6.4+ MB\n"
     ]
    }
   ],
   "source": [
    "nls97.info()\n",
    "#null 값 확인"
   ]
  },
  {
   "cell_type": "code",
   "execution_count": 94,
   "id": "eba6e8b9-9cf3-4e87-8d60-56d0ab554547",
   "metadata": {},
   "outputs": [
    {
     "data": {
      "text/html": [
       "<div>\n",
       "<style scoped>\n",
       "    .dataframe tbody tr th:only-of-type {\n",
       "        vertical-align: middle;\n",
       "    }\n",
       "\n",
       "    .dataframe tbody tr th {\n",
       "        vertical-align: top;\n",
       "    }\n",
       "\n",
       "    .dataframe thead th {\n",
       "        text-align: right;\n",
       "    }\n",
       "</style>\n",
       "<table border=\"1\" class=\"dataframe\">\n",
       "  <thead>\n",
       "    <tr style=\"text-align: right;\">\n",
       "      <th>personid</th>\n",
       "      <th>100061</th>\n",
       "      <th>100139</th>\n",
       "    </tr>\n",
       "  </thead>\n",
       "  <tbody>\n",
       "    <tr>\n",
       "      <th>gender</th>\n",
       "      <td>Female</td>\n",
       "      <td>Male</td>\n",
       "    </tr>\n",
       "    <tr>\n",
       "      <th>birthmonth</th>\n",
       "      <td>5</td>\n",
       "      <td>9</td>\n",
       "    </tr>\n",
       "    <tr>\n",
       "      <th>birthyear</th>\n",
       "      <td>1980</td>\n",
       "      <td>1983</td>\n",
       "    </tr>\n",
       "    <tr>\n",
       "      <th>highestgradecompleted</th>\n",
       "      <td>13.0</td>\n",
       "      <td>12.0</td>\n",
       "    </tr>\n",
       "    <tr>\n",
       "      <th>maritalstatus</th>\n",
       "      <td>Married</td>\n",
       "      <td>Married</td>\n",
       "    </tr>\n",
       "    <tr>\n",
       "      <th>...</th>\n",
       "      <td>...</td>\n",
       "      <td>...</td>\n",
       "    </tr>\n",
       "    <tr>\n",
       "      <th>colenroct15</th>\n",
       "      <td>1. Not enrolled</td>\n",
       "      <td>1. Not enrolled</td>\n",
       "    </tr>\n",
       "    <tr>\n",
       "      <th>colenrfeb16</th>\n",
       "      <td>1. Not enrolled</td>\n",
       "      <td>1. Not enrolled</td>\n",
       "    </tr>\n",
       "    <tr>\n",
       "      <th>colenroct16</th>\n",
       "      <td>1. Not enrolled</td>\n",
       "      <td>1. Not enrolled</td>\n",
       "    </tr>\n",
       "    <tr>\n",
       "      <th>colenrfeb17</th>\n",
       "      <td>1. Not enrolled</td>\n",
       "      <td>1. Not enrolled</td>\n",
       "    </tr>\n",
       "    <tr>\n",
       "      <th>colenroct17</th>\n",
       "      <td>1. Not enrolled</td>\n",
       "      <td>1. Not enrolled</td>\n",
       "    </tr>\n",
       "  </tbody>\n",
       "</table>\n",
       "<p>88 rows × 2 columns</p>\n",
       "</div>"
      ],
      "text/plain": [
       "personid                        100061           100139\n",
       "gender                          Female             Male\n",
       "birthmonth                           5                9\n",
       "birthyear                         1980             1983\n",
       "highestgradecompleted             13.0             12.0\n",
       "maritalstatus                  Married          Married\n",
       "...                                ...              ...\n",
       "colenroct15            1. Not enrolled  1. Not enrolled\n",
       "colenrfeb16            1. Not enrolled  1. Not enrolled\n",
       "colenroct16            1. Not enrolled  1. Not enrolled\n",
       "colenrfeb17            1. Not enrolled  1. Not enrolled\n",
       "colenroct17            1. Not enrolled  1. Not enrolled\n",
       "\n",
       "[88 rows x 2 columns]"
      ]
     },
     "execution_count": 94,
     "metadata": {},
     "output_type": "execute_result"
    }
   ],
   "source": [
    "nls97.head(2).T"
   ]
  },
  {
   "cell_type": "code",
   "execution_count": 95,
   "id": "b62db7b4-fa94-4ade-a4bb-ffeaecaf87a6",
   "metadata": {},
   "outputs": [],
   "source": [
    "covidtotals.set_index('iso_code', inplace = True)"
   ]
  },
  {
   "cell_type": "code",
   "execution_count": 96,
   "id": "c5811c6a-bdd9-4580-a08f-63c7f43589db",
   "metadata": {},
   "outputs": [
    {
     "data": {
      "text/plain": [
       "Index(['AFG', 'ALB', 'DZA', 'AND', 'AGO', 'AIA', 'ATG', 'ARG', 'ARM', 'ABW',\n",
       "       ...\n",
       "       'VIR', 'URY', 'UZB', 'VAT', 'VEN', 'VNM', 'ESH', 'YEM', 'ZMB', 'ZWE'],\n",
       "      dtype='object', name='iso_code', length=210)"
      ]
     },
     "execution_count": 96,
     "metadata": {},
     "output_type": "execute_result"
    }
   ],
   "source": [
    "covidtotals.index"
   ]
  },
  {
   "cell_type": "code",
   "execution_count": 97,
   "id": "0e12f297-3e92-4b7f-9867-af57ba85de20",
   "metadata": {},
   "outputs": [
    {
     "data": {
      "text/plain": [
       "(210, 11)"
      ]
     },
     "execution_count": 97,
     "metadata": {},
     "output_type": "execute_result"
    }
   ],
   "source": [
    "covidtotals.shape"
   ]
  },
  {
   "cell_type": "code",
   "execution_count": 98,
   "id": "ce9d9dc0-94e9-4099-9049-7bf2620ccce9",
   "metadata": {},
   "outputs": [
    {
     "data": {
      "text/plain": [
       "210"
      ]
     },
     "execution_count": 98,
     "metadata": {},
     "output_type": "execute_result"
    }
   ],
   "source": [
    "covidtotals.index.nunique()"
   ]
  },
  {
   "cell_type": "code",
   "execution_count": 99,
   "id": "349a9bdc-0c40-40f4-b0e9-d97361158e17",
   "metadata": {},
   "outputs": [
    {
     "name": "stdout",
     "output_type": "stream",
     "text": [
      "<class 'pandas.core.frame.DataFrame'>\n",
      "Index: 210 entries, AFG to ZWE\n",
      "Data columns (total 11 columns):\n",
      " #   Column           Non-Null Count  Dtype         \n",
      "---  ------           --------------  -----         \n",
      " 0   lastdate         210 non-null    datetime64[ns]\n",
      " 1   location         210 non-null    object        \n",
      " 2   total_cases      210 non-null    int64         \n",
      " 3   total_deaths     210 non-null    int64         \n",
      " 4   total_cases_pm   209 non-null    float64       \n",
      " 5   total_deaths_pm  209 non-null    float64       \n",
      " 6   population       210 non-null    float64       \n",
      " 7   pop_density      198 non-null    float64       \n",
      " 8   median_age       186 non-null    float64       \n",
      " 9   gdp_per_capita   182 non-null    float64       \n",
      " 10  hosp_beds        164 non-null    float64       \n",
      "dtypes: datetime64[ns](1), float64(7), int64(2), object(1)\n",
      "memory usage: 27.8+ KB\n"
     ]
    }
   ],
   "source": [
    "covidtotals.info()"
   ]
  },
  {
   "cell_type": "code",
   "execution_count": 100,
   "id": "c550aca2-8e1b-415f-919f-e8329ad5997d",
   "metadata": {},
   "outputs": [
    {
     "data": {
      "text/html": [
       "<div>\n",
       "<style scoped>\n",
       "    .dataframe tbody tr th:only-of-type {\n",
       "        vertical-align: middle;\n",
       "    }\n",
       "\n",
       "    .dataframe tbody tr th {\n",
       "        vertical-align: top;\n",
       "    }\n",
       "\n",
       "    .dataframe thead th {\n",
       "        text-align: right;\n",
       "    }\n",
       "</style>\n",
       "<table border=\"1\" class=\"dataframe\">\n",
       "  <thead>\n",
       "    <tr style=\"text-align: right;\">\n",
       "      <th>iso_code</th>\n",
       "      <th>COG</th>\n",
       "      <th>THA</th>\n",
       "    </tr>\n",
       "  </thead>\n",
       "  <tbody>\n",
       "    <tr>\n",
       "      <th>lastdate</th>\n",
       "      <td>2020-06-01 00:00:00</td>\n",
       "      <td>2020-06-01 00:00:00</td>\n",
       "    </tr>\n",
       "    <tr>\n",
       "      <th>location</th>\n",
       "      <td>Congo</td>\n",
       "      <td>Thailand</td>\n",
       "    </tr>\n",
       "    <tr>\n",
       "      <th>total_cases</th>\n",
       "      <td>611</td>\n",
       "      <td>3081</td>\n",
       "    </tr>\n",
       "    <tr>\n",
       "      <th>total_deaths</th>\n",
       "      <td>20</td>\n",
       "      <td>57</td>\n",
       "    </tr>\n",
       "    <tr>\n",
       "      <th>total_cases_pm</th>\n",
       "      <td>110.727</td>\n",
       "      <td>44.14</td>\n",
       "    </tr>\n",
       "    <tr>\n",
       "      <th>total_deaths_pm</th>\n",
       "      <td>3.624</td>\n",
       "      <td>0.817</td>\n",
       "    </tr>\n",
       "    <tr>\n",
       "      <th>population</th>\n",
       "      <td>5518092.0</td>\n",
       "      <td>69799978.0</td>\n",
       "    </tr>\n",
       "    <tr>\n",
       "      <th>pop_density</th>\n",
       "      <td>15.405</td>\n",
       "      <td>135.132</td>\n",
       "    </tr>\n",
       "    <tr>\n",
       "      <th>median_age</th>\n",
       "      <td>19.0</td>\n",
       "      <td>40.1</td>\n",
       "    </tr>\n",
       "    <tr>\n",
       "      <th>gdp_per_capita</th>\n",
       "      <td>4881.406</td>\n",
       "      <td>16277.671</td>\n",
       "    </tr>\n",
       "    <tr>\n",
       "      <th>hosp_beds</th>\n",
       "      <td>NaN</td>\n",
       "      <td>2.1</td>\n",
       "    </tr>\n",
       "  </tbody>\n",
       "</table>\n",
       "</div>"
      ],
      "text/plain": [
       "iso_code                         COG                  THA\n",
       "lastdate         2020-06-01 00:00:00  2020-06-01 00:00:00\n",
       "location                       Congo             Thailand\n",
       "total_cases                      611                 3081\n",
       "total_deaths                      20                   57\n",
       "total_cases_pm               110.727                44.14\n",
       "total_deaths_pm                3.624                0.817\n",
       "population                 5518092.0           69799978.0\n",
       "pop_density                   15.405              135.132\n",
       "median_age                      19.0                 40.1\n",
       "gdp_per_capita              4881.406            16277.671\n",
       "hosp_beds                        NaN                  2.1"
      ]
     },
     "execution_count": 100,
     "metadata": {},
     "output_type": "execute_result"
    }
   ],
   "source": [
    "covidtotals.sample(2, random_state=1).T\n",
    "#random_state 매개변수를 지정해 호출하면, 함수 실행할 때마다 같은 결과를 얻음\n",
    "#행과 열을 전치하면, 열의 수가 많아도 모든 열을 볼 수 있음!"
   ]
  },
  {
   "cell_type": "markdown",
   "id": "bcf67a3e-0bd6-4e46-bf71-89aac8337e39",
   "metadata": {},
   "source": [
    "### 열을 선택하고 정돈하기\n",
    "- 데이터를 정제하거나 탐색적 혹은 통계적 분석을 할 때는 당면한 이슈나 분석에 관련된 변수에 집중하는 것이 좋음\n",
    "- 열을 실체적 혹은 통계적 관계에 따라 그룹화하거나 한 번에 한 열씩 선택해 조사하는 것이 중요함\n",
    "- 직관을 얻으려면 한 번에 다루는 데이터 양이 인식범위를 넘지 않아야 함!"
   ]
  },
  {
   "cell_type": "code",
   "execution_count": 101,
   "id": "b2999fd8-b0ea-4fda-be55-bebdc5c213fc",
   "metadata": {},
   "outputs": [],
   "source": [
    "#객체 자료형을 선택 -> category 자료형으로 바꾸기\n",
    "nls97.loc[:, nls97.dtypes == 'object'] = nls97.select_dtypes(['object']).apply(lambda x: x.astype('category'))"
   ]
  },
  {
   "cell_type": "code",
   "execution_count": 102,
   "id": "83d9988a-9384-4aff-82cc-686a6810ac38",
   "metadata": {},
   "outputs": [
    {
     "data": {
      "text/plain": [
       "pandas.core.series.Series"
      ]
     },
     "execution_count": 102,
     "metadata": {},
     "output_type": "execute_result"
    }
   ],
   "source": [
    "analysisdemo = nls97['gender']\n",
    "type(analysisdemo)\n",
    "#시리즈 반환 확인"
   ]
  },
  {
   "cell_type": "code",
   "execution_count": 103,
   "id": "2d14ce3c-1839-4086-8043-6c6f94cd061b",
   "metadata": {},
   "outputs": [
    {
     "data": {
      "text/plain": [
       "pandas.core.frame.DataFrame"
      ]
     },
     "execution_count": 103,
     "metadata": {},
     "output_type": "execute_result"
    }
   ],
   "source": [
    "analysisdemo = nls97[['gender']]\n",
    "type(analysisdemo)\n",
    "#데이터프레임 반환 확인"
   ]
  },
  {
   "cell_type": "code",
   "execution_count": 104,
   "id": "888db3d9-64d3-47c8-b747-7a3deead2176",
   "metadata": {},
   "outputs": [
    {
     "data": {
      "text/plain": [
       "pandas.core.frame.DataFrame"
      ]
     },
     "execution_count": 104,
     "metadata": {},
     "output_type": "execute_result"
    }
   ],
   "source": [
    "analysisdemo = nls97.loc[:,['gender']]\n",
    "type(analysisdemo)"
   ]
  },
  {
   "cell_type": "code",
   "execution_count": 105,
   "id": "0e51f312-e470-4831-b25d-3012171f2f1b",
   "metadata": {},
   "outputs": [
    {
     "data": {
      "text/plain": [
       "pandas.core.frame.DataFrame"
      ]
     },
     "execution_count": 105,
     "metadata": {},
     "output_type": "execute_result"
    }
   ],
   "source": [
    "analysisdemo = nls97.iloc[:, [0]]\n",
    "type(analysisdemo)"
   ]
  },
  {
   "cell_type": "code",
   "execution_count": 106,
   "id": "088df36c-3ce2-42cf-b2fd-7b75c071b106",
   "metadata": {},
   "outputs": [
    {
     "data": {
      "text/plain": [
       "Index(['gender', 'birthmonth', 'birthyear', 'highestgradecompleted',\n",
       "       'maritalstatus', 'childathome', 'childnotathome', 'wageincome',\n",
       "       'weeklyhrscomputer', 'weeklyhrstv', 'nightlyhrssleep', 'satverbal',\n",
       "       'satmath', 'gpaoverall', 'gpaenglish', 'gpamath', 'gpascience',\n",
       "       'highestdegree', 'govprovidejobs', 'govpricecontrols', 'govhealthcare',\n",
       "       'govelderliving', 'govindhelp', 'govunemp', 'govincomediff',\n",
       "       'govcollegefinance', 'govdecenthousing', 'govprotectenvironment',\n",
       "       'weeksworked00', 'weeksworked01', 'weeksworked02', 'weeksworked03',\n",
       "       'weeksworked04', 'weeksworked05', 'weeksworked06', 'weeksworked07',\n",
       "       'weeksworked08', 'weeksworked09', 'weeksworked10', 'weeksworked11',\n",
       "       'weeksworked12', 'weeksworked13', 'weeksworked14', 'weeksworked15',\n",
       "       'weeksworked16', 'weeksworked17', 'colenrfeb97', 'colenroct97',\n",
       "       'colenrfeb98', 'colenroct98', 'colenrfeb99', 'colenroct99',\n",
       "       'colenrfeb00', 'colenroct00', 'colenrfeb01', 'colenroct01',\n",
       "       'colenrfeb02', 'colenroct02', 'colenrfeb03', 'colenroct03',\n",
       "       'colenrfeb04', 'colenroct04', 'colenrfeb05', 'colenroct05',\n",
       "       'colenrfeb06', 'colenroct06', 'colenrfeb07', 'colenroct07',\n",
       "       'colenrfeb08', 'colenroct08', 'colenrfeb09', 'colenroct09',\n",
       "       'colenrfeb10', 'colenroct10', 'colenrfeb11', 'colenroct11',\n",
       "       'colenrfeb12', 'colenroct12', 'colenrfeb13', 'colenroct13',\n",
       "       'colenrfeb14', 'colenroct14', 'colenrfeb15', 'colenroct15',\n",
       "       'colenrfeb16', 'colenroct16', 'colenrfeb17', 'colenroct17'],\n",
       "      dtype='object')"
      ]
     },
     "execution_count": 106,
     "metadata": {},
     "output_type": "execute_result"
    }
   ],
   "source": [
    "nls97.columns"
   ]
  },
  {
   "cell_type": "code",
   "execution_count": 107,
   "id": "9304fe04-2ed2-4fc8-ad88-602f929370d9",
   "metadata": {},
   "outputs": [
    {
     "data": {
      "text/plain": [
       "(8984, 3)"
      ]
     },
     "execution_count": 107,
     "metadata": {},
     "output_type": "execute_result"
    }
   ],
   "source": [
    "analysisdemo = nls97[['gender', 'maritalstatus', 'highestgradecompleted']]\n",
    "analysisdemo.shape"
   ]
  },
  {
   "cell_type": "code",
   "execution_count": 108,
   "id": "d4d05a46-eecc-4930-9d08-9f3f6f90821d",
   "metadata": {},
   "outputs": [
    {
     "data": {
      "text/html": [
       "<div>\n",
       "<style scoped>\n",
       "    .dataframe tbody tr th:only-of-type {\n",
       "        vertical-align: middle;\n",
       "    }\n",
       "\n",
       "    .dataframe tbody tr th {\n",
       "        vertical-align: top;\n",
       "    }\n",
       "\n",
       "    .dataframe thead th {\n",
       "        text-align: right;\n",
       "    }\n",
       "</style>\n",
       "<table border=\"1\" class=\"dataframe\">\n",
       "  <thead>\n",
       "    <tr style=\"text-align: right;\">\n",
       "      <th></th>\n",
       "      <th>gender</th>\n",
       "      <th>maritalstatus</th>\n",
       "      <th>highestgradecompleted</th>\n",
       "    </tr>\n",
       "    <tr>\n",
       "      <th>personid</th>\n",
       "      <th></th>\n",
       "      <th></th>\n",
       "      <th></th>\n",
       "    </tr>\n",
       "  </thead>\n",
       "  <tbody>\n",
       "    <tr>\n",
       "      <th>100061</th>\n",
       "      <td>Female</td>\n",
       "      <td>Married</td>\n",
       "      <td>13.0</td>\n",
       "    </tr>\n",
       "    <tr>\n",
       "      <th>100139</th>\n",
       "      <td>Male</td>\n",
       "      <td>Married</td>\n",
       "      <td>12.0</td>\n",
       "    </tr>\n",
       "    <tr>\n",
       "      <th>100284</th>\n",
       "      <td>Male</td>\n",
       "      <td>Never-married</td>\n",
       "      <td>7.0</td>\n",
       "    </tr>\n",
       "    <tr>\n",
       "      <th>100292</th>\n",
       "      <td>Male</td>\n",
       "      <td>NaN</td>\n",
       "      <td>NaN</td>\n",
       "    </tr>\n",
       "    <tr>\n",
       "      <th>100583</th>\n",
       "      <td>Male</td>\n",
       "      <td>Married</td>\n",
       "      <td>13.0</td>\n",
       "    </tr>\n",
       "  </tbody>\n",
       "</table>\n",
       "</div>"
      ],
      "text/plain": [
       "          gender  maritalstatus  highestgradecompleted\n",
       "personid                                              \n",
       "100061    Female        Married                   13.0\n",
       "100139      Male        Married                   12.0\n",
       "100284      Male  Never-married                    7.0\n",
       "100292      Male            NaN                    NaN\n",
       "100583      Male        Married                   13.0"
      ]
     },
     "execution_count": 108,
     "metadata": {},
     "output_type": "execute_result"
    }
   ],
   "source": [
    "analysisdemo.head()"
   ]
  },
  {
   "cell_type": "code",
   "execution_count": 109,
   "id": "dbddfb01-2611-4500-9dc9-ff7732464dfc",
   "metadata": {},
   "outputs": [],
   "source": [
    "#선택하려는 열이름 리스트를 별도로 생성\n",
    "keyvars = ['gender', 'maritalstatus', 'highestgradecompleted', 'wageincome', 'gpaoverall']\n",
    "anaylsiskeys = nls97[keyvars]"
   ]
  },
  {
   "cell_type": "code",
   "execution_count": 110,
   "id": "376879a2-b986-40d9-9131-feb26f9d8c55",
   "metadata": {},
   "outputs": [
    {
     "name": "stdout",
     "output_type": "stream",
     "text": [
      "<class 'pandas.core.frame.DataFrame'>\n",
      "Int64Index: 8984 entries, 100061 to 999963\n",
      "Data columns (total 5 columns):\n",
      " #   Column                 Non-Null Count  Dtype   \n",
      "---  ------                 --------------  -----   \n",
      " 0   gender                 8984 non-null   category\n",
      " 1   maritalstatus          6672 non-null   category\n",
      " 2   highestgradecompleted  6663 non-null   float64 \n",
      " 3   wageincome             5091 non-null   float64 \n",
      " 4   gpaoverall             6004 non-null   float64 \n",
      "dtypes: category(2), float64(3)\n",
      "memory usage: 556.7 KB\n"
     ]
    }
   ],
   "source": [
    "anaylsiskeys.info()"
   ]
  },
  {
   "cell_type": "code",
   "execution_count": 111,
   "id": "753543c6-3e56-4566-a9cc-6c172c92b493",
   "metadata": {},
   "outputs": [
    {
     "name": "stdout",
     "output_type": "stream",
     "text": [
      "<class 'pandas.core.frame.DataFrame'>\n",
      "Int64Index: 8984 entries, 100061 to 999963\n",
      "Data columns (total 18 columns):\n",
      " #   Column         Non-Null Count  Dtype  \n",
      "---  ------         --------------  -----  \n",
      " 0   weeksworked00  8603 non-null   float64\n",
      " 1   weeksworked01  8564 non-null   float64\n",
      " 2   weeksworked02  8556 non-null   float64\n",
      " 3   weeksworked03  8490 non-null   float64\n",
      " 4   weeksworked04  8458 non-null   float64\n",
      " 5   weeksworked05  8403 non-null   float64\n",
      " 6   weeksworked06  8340 non-null   float64\n",
      " 7   weeksworked07  8272 non-null   float64\n",
      " 8   weeksworked08  8186 non-null   float64\n",
      " 9   weeksworked09  8146 non-null   float64\n",
      " 10  weeksworked10  8054 non-null   float64\n",
      " 11  weeksworked11  7968 non-null   float64\n",
      " 12  weeksworked12  7747 non-null   float64\n",
      " 13  weeksworked13  7680 non-null   float64\n",
      " 14  weeksworked14  7612 non-null   float64\n",
      " 15  weeksworked15  7389 non-null   float64\n",
      " 16  weeksworked16  7068 non-null   float64\n",
      " 17  weeksworked17  6670 non-null   float64\n",
      "dtypes: float64(18)\n",
      "memory usage: 1.6 MB\n"
     ]
    }
   ],
   "source": [
    "#컬럼명 자체를 필터링하여 복수의 열 선택하기\n",
    "#weeksworked가 포함된 열을 모두 선택\n",
    "analysiswork = nls97.filter(like=\"weeksworked\")\n",
    "analysiswork.info()"
   ]
  },
  {
   "cell_type": "code",
   "execution_count": null,
   "id": "5a7abe43-0c16-4b28-b298-dbd75fb0a87c",
   "metadata": {},
   "outputs": [],
   "source": [
    "#범주형인 열 모두 선택 =>> 자료형을 기준으로 열 선택하려면 select_dtypes()\n"
   ]
  }
 ],
 "metadata": {
  "kernelspec": {
   "display_name": "Python 3 (ipykernel)",
   "language": "python",
   "name": "python3"
  },
  "language_info": {
   "codemirror_mode": {
    "name": "ipython",
    "version": 3
   },
   "file_extension": ".py",
   "mimetype": "text/x-python",
   "name": "python",
   "nbconvert_exporter": "python",
   "pygments_lexer": "ipython3",
   "version": "3.9.13"
  }
 },
 "nbformat": 4,
 "nbformat_minor": 5
}
